{
 "cells": [
  {
   "cell_type": "code",
   "execution_count": 14,
   "id": "04dcdce7",
   "metadata": {},
   "outputs": [
    {
     "ename": "ModuleNotFoundError",
     "evalue": "No module named 'tensorflow'",
     "output_type": "error",
     "traceback": [
      "\u001b[0;31m---------------------------------------------------------------------------\u001b[0m",
      "\u001b[0;31mModuleNotFoundError\u001b[0m                       Traceback (most recent call last)",
      "Cell \u001b[0;32mIn[14], line 1\u001b[0m\n\u001b[0;32m----> 1\u001b[0m \u001b[38;5;28;01mimport\u001b[39;00m \u001b[38;5;21;01mtensorflow\u001b[39;00m \u001b[38;5;28;01mas\u001b[39;00m \u001b[38;5;21;01mtf\u001b[39;00m\n\u001b[1;32m      2\u001b[0m \u001b[38;5;28;01mfrom\u001b[39;00m \u001b[38;5;21;01mmatplotlib\u001b[39;00m \u001b[38;5;28;01mimport\u001b[39;00m pyplot\n\u001b[1;32m      3\u001b[0m \u001b[38;5;28;01mimport\u001b[39;00m \u001b[38;5;21;01mnumpy\u001b[39;00m \u001b[38;5;28;01mas\u001b[39;00m \u001b[38;5;21;01mnp\u001b[39;00m\n",
      "\u001b[0;31mModuleNotFoundError\u001b[0m: No module named 'tensorflow'"
     ]
    }
   ],
   "source": [
    "import tensorflow as tf\n",
    "from matplotlib import pyplot\n",
    "import numpy as np\n",
    "import pandas as pd\n",
    "from pandas import read_csv\n",
    "from sklearn.model_selection import train_test_split\n",
    "from sklearn.preprocessing import LabelEncoder\n",
    "from tensorflow.keras import Sequential\n",
    "from tensorflow.keras import regularizers\n",
    "from tensorflow.keras.layers import Dense\n",
    "from tensorflow.keras.layers import InputLayer\n",
    "from tensorflow.keras.callbacks import EarlyStopping\n",
    "from tensorflow.keras.losses import MeanSquaredLogarithmicError\n",
    "import time\n",
    "import os\n",
    "import tempfile"
   ]
  },
  {
   "cell_type": "code",
   "execution_count": 15,
   "id": "77912721",
   "metadata": {},
   "outputs": [
    {
     "ename": "NameError",
     "evalue": "name 'read_csv' is not defined",
     "output_type": "error",
     "traceback": [
      "\u001b[0;31m---------------------------------------------------------------------------\u001b[0m",
      "\u001b[0;31mNameError\u001b[0m                                 Traceback (most recent call last)",
      "Cell \u001b[0;32mIn[15], line 3\u001b[0m\n\u001b[1;32m      1\u001b[0m \u001b[38;5;66;03m# Load the Datasets\u001b[39;00m\n\u001b[1;32m      2\u001b[0m path \u001b[38;5;241m=\u001b[39m \u001b[38;5;124m\"\u001b[39m\u001b[38;5;124mLUCAS-Copy1.SOIL_corr (1).csv\u001b[39m\u001b[38;5;124m\"\u001b[39m\n\u001b[0;32m----> 3\u001b[0m df \u001b[38;5;241m=\u001b[39m read_csv(path, header\u001b[38;5;241m=\u001b[39m\u001b[38;5;241m0\u001b[39m)\n\u001b[1;32m      4\u001b[0m select_columns \u001b[38;5;241m=\u001b[39m [col \u001b[38;5;28;01mfor\u001b[39;00m col \u001b[38;5;129;01min\u001b[39;00m df\u001b[38;5;241m.\u001b[39mcolumns \u001b[38;5;28;01mif\u001b[39;00m col\u001b[38;5;241m.\u001b[39mstartswith(\u001b[38;5;124m'\u001b[39m\u001b[38;5;124mspc.\u001b[39m\u001b[38;5;124m'\u001b[39m)]\n\u001b[1;32m      5\u001b[0m df_select_columns \u001b[38;5;241m=\u001b[39m df[select_columns]\n",
      "\u001b[0;31mNameError\u001b[0m: name 'read_csv' is not defined"
     ]
    }
   ],
   "source": [
    "# Load the Datasets\n",
    "path = \"LUCAS-Copy1.SOIL_corr (1).csv\"\n",
    "df = read_csv(path, header=0)\n",
    "select_columns = [col for col in df.columns if col.startswith('spc.')]\n",
    "df_select_columns = df[select_columns]\n",
    "print(df_select_columns.head())"
   ]
  },
  {
   "cell_type": "code",
   "execution_count": null,
   "id": "370311c2",
   "metadata": {},
   "outputs": [],
   "source": [
    "# Split into input/output columns\n",
    "# Encode Strings to integers\n",
    "# Split into Training and Test DatasetsX, y = df.values[:, :-1], df.values[:, -1]\n",
    "X, y = df_select_columns.values[:, :-1], df_select_columns.values[:, -1]\n",
    "X = X.astype(\"float32\")\n",
    "y = LabelEncoder().fit_transform(y)\n",
    "X_train, X_test, y_train, y_test = train_test_split(\n",
    "    X, y, test_size=0.30, random_state=17\n",
    ")\n",
    "n_features = X_train.shape[1]\n",
    "print(X_train.shape, X_test.shape, y_train.shape, y_test.shape)"
   ]
  },
  {
   "cell_type": "code",
   "execution_count": 2,
   "id": "70bb63ee",
   "metadata": {},
   "outputs": [
    {
     "ename": "NameError",
     "evalue": "name 'Sequential' is not defined",
     "output_type": "error",
     "traceback": [
      "\u001b[0;31m---------------------------------------------------------------------------\u001b[0m",
      "\u001b[0;31mNameError\u001b[0m                                 Traceback (most recent call last)",
      "Cell \u001b[0;32mIn[2], line 6\u001b[0m\n\u001b[1;32m      1\u001b[0m \u001b[38;5;66;03m# Create the model first time\u001b[39;00m\n\u001b[1;32m      2\u001b[0m \n\u001b[1;32m      3\u001b[0m \u001b[38;5;66;03m# Define Model\u001b[39;00m\n\u001b[1;32m      4\u001b[0m \u001b[38;5;66;03m# 767 Bands\u001b[39;00m\n\u001b[1;32m      5\u001b[0m N \u001b[38;5;241m=\u001b[39m \u001b[38;5;241m1200\u001b[39m\n\u001b[0;32m----> 6\u001b[0m model_1 \u001b[38;5;241m=\u001b[39m Sequential()\n\u001b[1;32m      7\u001b[0m model_1\u001b[38;5;241m.\u001b[39madd(\n\u001b[1;32m      8\u001b[0m     Dense(\n\u001b[1;32m      9\u001b[0m         N,\n\u001b[0;32m   (...)\u001b[0m\n\u001b[1;32m     14\u001b[0m     )\n\u001b[1;32m     15\u001b[0m )\n",
      "\u001b[0;31mNameError\u001b[0m: name 'Sequential' is not defined"
     ]
    }
   ],
   "source": [
    "# Create the model first time\n",
    "\n",
    "# Define Model\n",
    "# 767 Bands\n",
    "N = 1200\n",
    "model_1 = Sequential()\n",
    "model_1.add(\n",
    "    Dense(\n",
    "        N,\n",
    "        activation=\"relu\",\n",
    "        kernel_initializer=\"he_normal\",\n",
    "        kernel_regularizer=regularizers.L1L2(l1=1e-5, l2=1e-4),\n",
    "        input_shape=(n_features,),\n",
    "    )\n",
    ")"
   ]
  },
  {
   "cell_type": "code",
   "execution_count": 3,
   "id": "f0d84c5a",
   "metadata": {},
   "outputs": [
    {
     "ename": "NameError",
     "evalue": "name 'model_1' is not defined",
     "output_type": "error",
     "traceback": [
      "\u001b[0;31m---------------------------------------------------------------------------\u001b[0m",
      "\u001b[0;31mNameError\u001b[0m                                 Traceback (most recent call last)",
      "Cell \u001b[0;32mIn[3], line 1\u001b[0m\n\u001b[0;32m----> 1\u001b[0m model_1\u001b[38;5;241m.\u001b[39madd(\n\u001b[1;32m      2\u001b[0m     Dense(\n\u001b[1;32m      3\u001b[0m         N \u001b[38;5;241m/\u001b[39m\u001b[38;5;241m/\u001b[39m \u001b[38;5;241m2\u001b[39m,\n\u001b[1;32m      4\u001b[0m         activation\u001b[38;5;241m=\u001b[39m\u001b[38;5;124m\"\u001b[39m\u001b[38;5;124mrelu\u001b[39m\u001b[38;5;124m\"\u001b[39m,\n\u001b[1;32m      5\u001b[0m         kernel_regularizer\u001b[38;5;241m=\u001b[39mregularizers\u001b[38;5;241m.\u001b[39mL1L2(l1\u001b[38;5;241m=\u001b[39m\u001b[38;5;241m1e-5\u001b[39m, l2\u001b[38;5;241m=\u001b[39m\u001b[38;5;241m1e-4\u001b[39m),\n\u001b[1;32m      6\u001b[0m         kernel_initializer\u001b[38;5;241m=\u001b[39m\u001b[38;5;124m\"\u001b[39m\u001b[38;5;124mhe_normal\u001b[39m\u001b[38;5;124m\"\u001b[39m,\n\u001b[1;32m      7\u001b[0m     )\n\u001b[1;32m      8\u001b[0m )\n",
      "\u001b[0;31mNameError\u001b[0m: name 'model_1' is not defined"
     ]
    }
   ],
   "source": [
    "model_1.add(\n",
    "    Dense(\n",
    "        N // 2,\n",
    "        activation=\"relu\",\n",
    "        kernel_regularizer=regularizers.L1L2(l1=1e-5, l2=1e-4),\n",
    "        kernel_initializer=\"he_normal\",\n",
    "    )\n",
    ")"
   ]
  },
  {
   "cell_type": "code",
   "execution_count": 4,
   "id": "99dd4ff5",
   "metadata": {},
   "outputs": [
    {
     "ename": "NameError",
     "evalue": "name 'model_1' is not defined",
     "output_type": "error",
     "traceback": [
      "\u001b[0;31m---------------------------------------------------------------------------\u001b[0m",
      "\u001b[0;31mNameError\u001b[0m                                 Traceback (most recent call last)",
      "Cell \u001b[0;32mIn[4], line 1\u001b[0m\n\u001b[0;32m----> 1\u001b[0m model_1\u001b[38;5;241m.\u001b[39madd(\n\u001b[1;32m      2\u001b[0m     Dense(\n\u001b[1;32m      3\u001b[0m         N \u001b[38;5;241m/\u001b[39m\u001b[38;5;241m/\u001b[39m \u001b[38;5;241m4\u001b[39m,\n\u001b[1;32m      4\u001b[0m         activation\u001b[38;5;241m=\u001b[39m\u001b[38;5;124m\"\u001b[39m\u001b[38;5;124mrelu\u001b[39m\u001b[38;5;124m\"\u001b[39m,\n\u001b[1;32m      5\u001b[0m         kernel_regularizer\u001b[38;5;241m=\u001b[39mregularizers\u001b[38;5;241m.\u001b[39mL1L2(l1\u001b[38;5;241m=\u001b[39m\u001b[38;5;241m1e-5\u001b[39m, l2\u001b[38;5;241m=\u001b[39m\u001b[38;5;241m1e-4\u001b[39m),\n\u001b[1;32m      6\u001b[0m         kernel_initializer\u001b[38;5;241m=\u001b[39m\u001b[38;5;124m\"\u001b[39m\u001b[38;5;124mhe_normal\u001b[39m\u001b[38;5;124m\"\u001b[39m,\n\u001b[1;32m      7\u001b[0m     )\n\u001b[1;32m      8\u001b[0m )\n",
      "\u001b[0;31mNameError\u001b[0m: name 'model_1' is not defined"
     ]
    }
   ],
   "source": [
    "model_1.add(\n",
    "    Dense(\n",
    "        N // 4,\n",
    "        activation=\"relu\",\n",
    "        kernel_regularizer=regularizers.L1L2(l1=1e-5, l2=1e-4),\n",
    "        kernel_initializer=\"he_normal\",\n",
    "    )\n",
    ")"
   ]
  },
  {
   "cell_type": "code",
   "execution_count": 5,
   "id": "e13c77ec",
   "metadata": {},
   "outputs": [
    {
     "ename": "NameError",
     "evalue": "name 'model_1' is not defined",
     "output_type": "error",
     "traceback": [
      "\u001b[0;31m---------------------------------------------------------------------------\u001b[0m",
      "\u001b[0;31mNameError\u001b[0m                                 Traceback (most recent call last)",
      "Cell \u001b[0;32mIn[5], line 1\u001b[0m\n\u001b[0;32m----> 1\u001b[0m model_1\u001b[38;5;241m.\u001b[39madd(\n\u001b[1;32m      2\u001b[0m     Dense(\n\u001b[1;32m      3\u001b[0m         N \u001b[38;5;241m/\u001b[39m\u001b[38;5;241m/\u001b[39m \u001b[38;5;241m8\u001b[39m,\n\u001b[1;32m      4\u001b[0m         activation\u001b[38;5;241m=\u001b[39m\u001b[38;5;124m\"\u001b[39m\u001b[38;5;124mrelu\u001b[39m\u001b[38;5;124m\"\u001b[39m,\n\u001b[1;32m      5\u001b[0m         kernel_regularizer\u001b[38;5;241m=\u001b[39mregularizers\u001b[38;5;241m.\u001b[39mL1L2(l1\u001b[38;5;241m=\u001b[39m\u001b[38;5;241m1e-5\u001b[39m, l2\u001b[38;5;241m=\u001b[39m\u001b[38;5;241m1e-4\u001b[39m),\n\u001b[1;32m      6\u001b[0m         kernel_initializer\u001b[38;5;241m=\u001b[39m\u001b[38;5;124m\"\u001b[39m\u001b[38;5;124mhe_normal\u001b[39m\u001b[38;5;124m\"\u001b[39m,\n\u001b[1;32m      7\u001b[0m     )\n\u001b[1;32m      8\u001b[0m )\n\u001b[1;32m      9\u001b[0m model_1\u001b[38;5;241m.\u001b[39madd(Dense(\u001b[38;5;241m1\u001b[39m, activation\u001b[38;5;241m=\u001b[39m\u001b[38;5;124m\"\u001b[39m\u001b[38;5;124mlinear\u001b[39m\u001b[38;5;124m\"\u001b[39m))\n",
      "\u001b[0;31mNameError\u001b[0m: name 'model_1' is not defined"
     ]
    }
   ],
   "source": [
    "model_1.add(\n",
    "    Dense(\n",
    "        N // 8,\n",
    "        activation=\"relu\",\n",
    "        kernel_regularizer=regularizers.L1L2(l1=1e-5, l2=1e-4),\n",
    "        kernel_initializer=\"he_normal\",\n",
    "    )\n",
    ")\n",
    "model_1.add(Dense(1, activation=\"linear\"))"
   ]
  },
  {
   "cell_type": "code",
   "execution_count": 6,
   "id": "3108e133",
   "metadata": {},
   "outputs": [
    {
     "ename": "NameError",
     "evalue": "name 'tf' is not defined",
     "output_type": "error",
     "traceback": [
      "\u001b[0;31m---------------------------------------------------------------------------\u001b[0m",
      "\u001b[0;31mNameError\u001b[0m                                 Traceback (most recent call last)",
      "Cell \u001b[0;32mIn[6], line 2\u001b[0m\n\u001b[1;32m      1\u001b[0m \u001b[38;5;66;03m# Define a callback to modify the learning rate dynamically\u001b[39;00m\n\u001b[0;32m----> 2\u001b[0m lr_callback \u001b[38;5;241m=\u001b[39m tf\u001b[38;5;241m.\u001b[39mkeras\u001b[38;5;241m.\u001b[39mcallbacks\u001b[38;5;241m.\u001b[39mReduceLROnPlateau(\n\u001b[1;32m      3\u001b[0m     monitor\u001b[38;5;241m=\u001b[39m\u001b[38;5;124m\"\u001b[39m\u001b[38;5;124mval_loss\u001b[39m\u001b[38;5;124m\"\u001b[39m, factor\u001b[38;5;241m=\u001b[39m\u001b[38;5;241m0.1\u001b[39m, patience\u001b[38;5;241m=\u001b[39m\u001b[38;5;241m10\u001b[39m, min_lr\u001b[38;5;241m=\u001b[39m\u001b[38;5;241m0.0001\u001b[39m\n\u001b[1;32m      4\u001b[0m )\n\u001b[1;32m      5\u001b[0m \u001b[38;5;66;03m# In[ ]:\u001b[39;00m\n\u001b[1;32m      7\u001b[0m msle \u001b[38;5;241m=\u001b[39m MeanSquaredLogarithmicError()\n",
      "\u001b[0;31mNameError\u001b[0m: name 'tf' is not defined"
     ]
    }
   ],
   "source": [
    "# Define a callback to modify the learning rate dynamically\n",
    "lr_callback = tf.keras.callbacks.ReduceLROnPlateau(\n",
    "    monitor=\"val_loss\", factor=0.1, patience=10, min_lr=0.0001\n",
    ")\n",
    "# In[ ]:\n",
    "\n",
    "msle = MeanSquaredLogarithmicError()"
   ]
  },
  {
   "cell_type": "code",
   "execution_count": 7,
   "id": "7c33913f",
   "metadata": {},
   "outputs": [
    {
     "ename": "NameError",
     "evalue": "name 'model_1' is not defined",
     "output_type": "error",
     "traceback": [
      "\u001b[0;31m---------------------------------------------------------------------------\u001b[0m",
      "\u001b[0;31mNameError\u001b[0m                                 Traceback (most recent call last)",
      "Cell \u001b[0;32mIn[7], line 2\u001b[0m\n\u001b[1;32m      1\u001b[0m \u001b[38;5;66;03m# Compile Model\u001b[39;00m\n\u001b[0;32m----> 2\u001b[0m model_1\u001b[38;5;241m.\u001b[39mcompile(\n\u001b[1;32m      3\u001b[0m     optimizer\u001b[38;5;241m=\u001b[39m\u001b[38;5;124m\"\u001b[39m\u001b[38;5;124msgd\u001b[39m\u001b[38;5;124m\"\u001b[39m,\n\u001b[1;32m      4\u001b[0m     loss\u001b[38;5;241m=\u001b[39mmsle,\n\u001b[1;32m      5\u001b[0m     metrics\u001b[38;5;241m=\u001b[39m[\u001b[38;5;124m\"\u001b[39m\u001b[38;5;124mmsle\u001b[39m\u001b[38;5;124m\"\u001b[39m],\n\u001b[1;32m      6\u001b[0m )\n\u001b[1;32m      7\u001b[0m model_1\u001b[38;5;241m.\u001b[39msummary()\n",
      "\u001b[0;31mNameError\u001b[0m: name 'model_1' is not defined"
     ]
    }
   ],
   "source": [
    "# Compile Model\n",
    "model_1.compile(\n",
    "    optimizer=\"sgd\",\n",
    "    loss=msle,\n",
    "    metrics=[\"msle\"],\n",
    ")\n",
    "model_1.summary()"
   ]
  },
  {
   "cell_type": "code",
   "execution_count": 8,
   "id": "3fec678f",
   "metadata": {},
   "outputs": [
    {
     "ename": "NameError",
     "evalue": "name 'os' is not defined",
     "output_type": "error",
     "traceback": [
      "\u001b[0;31m---------------------------------------------------------------------------\u001b[0m",
      "\u001b[0;31mNameError\u001b[0m                                 Traceback (most recent call last)",
      "Cell \u001b[0;32mIn[8], line 2\u001b[0m\n\u001b[1;32m      1\u001b[0m \u001b[38;5;66;03m# Save the initial weights\u001b[39;00m\n\u001b[0;32m----> 2\u001b[0m initial_weights \u001b[38;5;241m=\u001b[39m os\u001b[38;5;241m.\u001b[39mpath\u001b[38;5;241m.\u001b[39mjoin(tempfile\u001b[38;5;241m.\u001b[39mmkdtemp(), \u001b[38;5;124m\"\u001b[39m\u001b[38;5;124minitial_weights\u001b[39m\u001b[38;5;124m\"\u001b[39m)\n\u001b[1;32m      3\u001b[0m model_1\u001b[38;5;241m.\u001b[39msave_weights(initial_weights)\n",
      "\u001b[0;31mNameError\u001b[0m: name 'os' is not defined"
     ]
    }
   ],
   "source": [
    "# Save the initial weights\n",
    "initial_weights = os.path.join(tempfile.mkdtemp(), \"initial_weights\")\n",
    "model_1.save_weights(initial_weights)"
   ]
  },
  {
   "cell_type": "code",
   "execution_count": 9,
   "id": "343ba88e",
   "metadata": {},
   "outputs": [
    {
     "ename": "NameError",
     "evalue": "name 'time' is not defined",
     "output_type": "error",
     "traceback": [
      "\u001b[0;31m---------------------------------------------------------------------------\u001b[0m",
      "\u001b[0;31mNameError\u001b[0m                                 Traceback (most recent call last)",
      "Cell \u001b[0;32mIn[9], line 2\u001b[0m\n\u001b[1;32m      1\u001b[0m \u001b[38;5;66;03m##DO ALL YOUR TRAINING USING MODEL_1###\u001b[39;00m\n\u001b[0;32m----> 2\u001b[0m start_time \u001b[38;5;241m=\u001b[39m time\u001b[38;5;241m.\u001b[39mtime()\n\u001b[1;32m      3\u001b[0m history_1 \u001b[38;5;241m=\u001b[39m model_1\u001b[38;5;241m.\u001b[39mfit(\n\u001b[1;32m      4\u001b[0m     X_train,\n\u001b[1;32m      5\u001b[0m     y_train,\n\u001b[0;32m   (...)\u001b[0m\n\u001b[1;32m      9\u001b[0m     callbacks\u001b[38;5;241m=\u001b[39m[lr_callback],\n\u001b[1;32m     10\u001b[0m )\n\u001b[1;32m     11\u001b[0m end_time \u001b[38;5;241m=\u001b[39m time\u001b[38;5;241m.\u001b[39mtime()\n",
      "\u001b[0;31mNameError\u001b[0m: name 'time' is not defined"
     ]
    },
    {
     "name": "stdout",
     "output_type": "stream",
     "text": [
      "187/187 [==============================] - 5s 26ms/step - loss: 1.9598 - msle: 0.5034 - val_loss: 1.9411 - val_msle: 0.4862\n",
      "Epoch 121/300\n",
      "187/187 [==============================] - 5s 26ms/step - loss: 1.9734 - msle: 0.5190 - val_loss: 1.9375 - val_msle: 0.4845\n",
      "Epoch 122/300\n",
      "187/187 [==============================] - 5s 27ms/step - loss: 1.9576 - msle: 0.5051 - val_loss: 1.9314 - val_msle: 0.4804\n",
      "Epoch 123/300\n",
      "187/187 [==============================] - 5s 27ms/step - loss: 1.9811 - msle: 0.5305 - val_loss: 1.9252 - val_msle: 0.4761\n",
      "Epoch 124/300\n",
      "187/187 [==============================] - 5s 27ms/step - loss: 1.9584 - msle: 0.5098 - val_loss: 1.9205 - val_msle: 0.4733\n",
      "Epoch 125/300\n",
      "187/187 [==============================] - 5s 26ms/step - loss: 1.9202 - msle: 0.4736 - val_loss: 1.9139 - val_msle: 0.4688\n",
      "Epoch 126/300\n",
      "187/187 [==============================] - 5s 27ms/step - loss: 1.9016 - msle: 0.4569 - val_loss: 1.9082 - val_msle: 0.4649\n",
      "Epoch 127/300\n",
      "187/187 [==============================] - 5s 26ms/step - loss: 1.9274 - msle: 0.4846 - val_loss: 1.9039 - val_msle: 0.4626\n",
      "Epoch 128/300\n",
      "187/187 [==============================] - 5s 26ms/step - loss: 1.9458 - msle: 0.5050 - val_loss: 1.9030 - val_msle: 0.4637\n",
      "Epoch 129/300\n",
      "187/187 [==============================] - 5s 28ms/step - loss: 1.9123 - msle: 0.4734 - val_loss: 1.8990 - val_msle: 0.4616\n",
      "Epoch 130/300\n",
      "187/187 [==============================] - 5s 28ms/step - loss: 1.9183 - msle: 0.4814 - val_loss: 1.8893 - val_msle: 0.4539\n",
      "Epoch 131/300\n",
      "187/187 [==============================] - 5s 28ms/step - loss: 1.8903 - msle: 0.4553 - val_loss: 1.8809 - val_msle: 0.4474\n",
      "Epoch 132/300\n",
      "187/187 [==============================] - 5s 28ms/step - loss: 1.8954 - msle: 0.4624 - val_loss: 1.8746 - val_msle: 0.4431\n",
      "Epoch 133/300\n",
      "187/187 [==============================] - 5s 28ms/step - loss: 1.9166 - msle: 0.4856 - val_loss: 1.8682 - val_msle: 0.4387\n",
      "Epoch 134/300\n",
      "187/187 [==============================] - 5s 28ms/step - loss: 1.8758 - msle: 0.4467 - val_loss: 1.8710 - val_msle: 0.4433\n",
      "Epoch 135/300\n",
      "187/187 [==============================] - 5s 27ms/step - loss: 1.8689 - msle: 0.4418 - val_loss: 1.8574 - val_msle: 0.4317\n",
      "Epoch 136/300\n",
      "187/187 [==============================] - 5s 28ms/step - loss: 1.8789 - msle: 0.4536 - val_loss: 1.8510 - val_msle: 0.4273\n",
      "Epoch 137/300\n",
      "187/187 [==============================] - 5s 28ms/step - loss: 1.8350 - msle: 0.4117 - val_loss: 1.8456 - val_msle: 0.4238\n",
      "Epoch 138/300\n",
      "187/187 [==============================] - 5s 28ms/step - loss: 1.8542 - msle: 0.4328 - val_loss: 1.8479 - val_msle: 0.4280\n",
      "Epoch 139/300\n",
      "187/187 [==============================] - 5s 28ms/step - loss: 1.8841 - msle: 0.4647 - val_loss: 1.8325 - val_msle: 0.4146\n",
      "Epoch 140/300\n",
      "187/187 [==============================] - 5s 28ms/step - loss: 1.8401 - msle: 0.4226 - val_loss: 1.8327 - val_msle: 0.4167\n",
      "Epoch 141/300\n",
      "187/187 [==============================] - 5s 28ms/step - loss: 1.8473 - msle: 0.4318 - val_loss: 1.8232 - val_msle: 0.4091\n",
      "Epoch 142/300\n",
      "187/187 [==============================] - 5s 28ms/step - loss: 1.8357 - msle: 0.4220 - val_loss: 1.8164 - val_msle: 0.4042\n",
      "Epoch 143/300\n",
      "187/187 [==============================] - 5s 28ms/step - loss: 1.8322 - msle: 0.4204 - val_loss: 1.8085 - val_msle: 0.3982\n",
      "Epoch 144/300\n",
      "187/187 [==============================] - 5s 28ms/step - loss: 1.8327 - msle: 0.4228 - val_loss: 1.7994 - val_msle: 0.3911\n",
      "Epoch 145/300\n",
      "187/187 [==============================] - 5s 28ms/step - loss: 1.8086 - msle: 0.4006 - val_loss: 1.7945 - val_msle: 0.3880\n",
      "Epoch 146/300\n",
      "187/187 [==============================] - 5s 28ms/step - loss: 1.8132 - msle: 0.4072 - val_loss: 1.7875 - val_msle: 0.3829\n",
      "Epoch 147/300\n",
      "187/187 [==============================] - 5s 28ms/step - loss: 1.7967 - msle: 0.3925 - val_loss: 1.7956 - val_msle: 0.3928\n",
      "Epoch 148/300\n",
      "187/187 [==============================] - 5s 28ms/step - loss: 1.8085 - msle: 0.4062 - val_loss: 1.7729 - val_msle: 0.3721\n",
      "Epoch 149/300\n",
      "187/187 [==============================] - 5s 26ms/step - loss: 1.7945 - msle: 0.3941 - val_loss: 1.7704 - val_msle: 0.3714\n",
      "Epoch 150/300\n",
      "187/187 [==============================] - 5s 26ms/step - loss: 1.7783 - msle: 0.3798 - val_loss: 1.7572 - val_msle: 0.3601\n",
      "Epoch 151/300\n",
      "187/187 [==============================] - 5s 27ms/step - loss: 1.7692 - msle: 0.3725 - val_loss: 1.7547 - val_msle: 0.3595\n",
      "Epoch 152/300\n",
      "187/187 [==============================] - 5s 27ms/step - loss: 1.7422 - msle: 0.3475 - val_loss: 1.7418 - val_msle: 0.3484\n",
      "Epoch 153/300\n",
      "187/187 [==============================] - 5s 27ms/step - loss: 1.7350 - msle: 0.3421 - val_loss: 1.7342 - val_msle: 0.3427\n",
      "Epoch 154/300\n",
      "187/187 [==============================] - 5s 26ms/step - loss: 1.7652 - msle: 0.3741 - val_loss: 1.7349 - val_msle: 0.3453\n",
      "Epoch 155/300\n",
      "187/187 [==============================] - 5s 26ms/step - loss: 1.7269 - msle: 0.3377 - val_loss: 1.7212 - val_msle: 0.3334\n",
      "Epoch 156/300\n",
      "187/187 [==============================] - 5s 27ms/step - loss: 1.7358 - msle: 0.3485 - val_loss: 1.7128 - val_msle: 0.3268\n",
      "Epoch 157/300\n",
      "187/187 [==============================] - 5s 27ms/step - loss: 1.7314 - msle: 0.3459 - val_loss: 1.7052 - val_msle: 0.3210\n",
      "Epoch 158/300\n",
      "187/187 [==============================] - 5s 27ms/step - loss: 1.7109 - msle: 0.3272 - val_loss: 1.7823 - val_msle: 0.4000\n",
      "Epoch 159/300\n",
      "187/187 [==============================] - 5s 27ms/step - loss: 1.7254 - msle: 0.3436 - val_loss: 1.6951 - val_msle: 0.3146\n",
      "Epoch 160/300\n",
      "187/187 [==============================] - 5s 27ms/step - loss: 1.7086 - msle: 0.3286 - val_loss: 1.6800 - val_msle: 0.3014\n",
      "Epoch 161/300\n",
      "187/187 [==============================] - 5s 27ms/step - loss: 1.6964 - msle: 0.3182 - val_loss: 1.6800 - val_msle: 0.3031\n",
      "Epoch 162/300\n",
      "187/187 [==============================] - 5s 27ms/step - loss: 1.7058 - msle: 0.3294 - val_loss: 1.7063 - val_msle: 0.3312\n",
      "Epoch 163/300\n",
      "187/187 [==============================] - 5s 27ms/step - loss: 1.6674 - msle: 0.2928 - val_loss: 1.6927 - val_msle: 0.3195\n",
      "Epoch 164/300\n",
      "187/187 [==============================] - 5s 27ms/step - loss: 1.6843 - msle: 0.3116 - val_loss: 1.6477 - val_msle: 0.2763\n",
      "Epoch 165/300\n",
      "187/187 [==============================] - 5s 27ms/step - loss: 1.6691 - msle: 0.2981 - val_loss: 1.6339 - val_msle: 0.2643\n",
      "Epoch 166/300\n",
      "187/187 [==============================] - 5s 27ms/step - loss: 1.6440 - msle: 0.2749 - val_loss: 1.6362 - val_msle: 0.2684\n",
      "Epoch 167/300\n",
      "187/187 [==============================] - 5s 27ms/step - loss: 1.6355 - msle: 0.2682 - val_loss: 1.6454 - val_msle: 0.2794\n",
      "Epoch 168/300\n",
      "187/187 [==============================] - 5s 27ms/step - loss: 1.6280 - msle: 0.2625 - val_loss: 1.6088 - val_msle: 0.2446\n",
      "Epoch 169/300\n",
      "187/187 [==============================] - 5s 27ms/step - loss: 1.6117 - msle: 0.2480 - val_loss: 1.6383 - val_msle: 0.2760\n",
      "Epoch 170/300\n",
      "187/187 [==============================] - 5s 28ms/step - loss: 1.6256 - msle: 0.2637 - val_loss: 1.6052 - val_msle: 0.2447\n",
      "Epoch 171/300\n",
      "187/187 [==============================] - 5s 28ms/step - loss: 1.6184 - msle: 0.2583 - val_loss: 1.5955 - val_msle: 0.2368\n",
      "Epoch 172/300\n",
      "187/187 [==============================] - 5s 28ms/step - loss: 1.6314 - msle: 0.2731 - val_loss: 1.5766 - val_msle: 0.2198\n",
      "Epoch 173/300\n",
      "187/187 [==============================] - 5s 28ms/step - loss: 1.5911 - msle: 0.2347 - val_loss: 1.5671 - val_msle: 0.2121\n",
      "Epoch 174/300\n",
      "187/187 [==============================] - 5s 28ms/step - loss: 1.5766 - msle: 0.2220 - val_loss: 1.6013 - val_msle: 0.2481\n",
      "Epoch 175/300\n",
      "187/187 [==============================] - 5s 28ms/step - loss: 1.5687 - msle: 0.2160 - val_loss: 2.0708 - val_msle: 0.7195\n",
      "Epoch 176/300\n",
      "187/187 [==============================] - 5s 28ms/step - loss: 1.5788 - msle: 0.2279 - val_loss: 1.7019 - val_msle: 0.3524\n",
      "Epoch 177/300\n",
      "187/187 [==============================] - 5s 27ms/step - loss: 1.5869 - msle: 0.2379 - val_loss: 1.8071 - val_msle: 0.4595\n",
      "Epoch 178/300\n",
      "187/187 [==============================] - 5s 27ms/step - loss: 1.5812 - msle: 0.2341 - val_loss: 1.5335 - val_msle: 0.1877\n",
      "Epoch 179/300\n"
     ]
    },
    {
     "name": "stdout",
     "output_type": "stream",
     "text": [
      "187/187 [==============================] - 5s 27ms/step - loss: 1.5671 - msle: 0.2218 - val_loss: 1.5247 - val_msle: 0.1809\n",
      "Epoch 180/300\n",
      "187/187 [==============================] - 5s 27ms/step - loss: 1.5438 - msle: 0.2005 - val_loss: 1.5318 - val_msle: 0.1898\n",
      "Epoch 181/300\n",
      "187/187 [==============================] - 5s 27ms/step - loss: 1.5424 - msle: 0.2009 - val_loss: 1.5204 - val_msle: 0.1804\n",
      "Epoch 182/300\n",
      "187/187 [==============================] - 5s 27ms/step - loss: 1.5357 - msle: 0.1960 - val_loss: 1.5246 - val_msle: 0.1863\n",
      "Epoch 183/300\n",
      "187/187 [==============================] - 5s 27ms/step - loss: 1.5125 - msle: 0.1747 - val_loss: 1.7624 - val_msle: 0.4260\n",
      "Epoch 184/300\n",
      "187/187 [==============================] - 5s 27ms/step - loss: 1.5350 - msle: 0.1991 - val_loss: 1.5017 - val_msle: 0.1673\n",
      "Epoch 185/300\n",
      "187/187 [==============================] - 5s 27ms/step - loss: 1.5084 - msle: 0.1744 - val_loss: 1.5034 - val_msle: 0.1708\n",
      "Epoch 186/300\n",
      "187/187 [==============================] - 5s 27ms/step - loss: 1.5020 - msle: 0.1699 - val_loss: 1.4890 - val_msle: 0.1582\n",
      "Epoch 187/300\n",
      "187/187 [==============================] - 5s 27ms/step - loss: 1.4930 - msle: 0.1627 - val_loss: 1.9092 - val_msle: 0.5803\n",
      "Epoch 188/300\n",
      "187/187 [==============================] - 5s 28ms/step - loss: 1.5483 - msle: 0.2198 - val_loss: 1.4809 - val_msle: 0.1539\n",
      "Epoch 189/300\n",
      "187/187 [==============================] - 5s 28ms/step - loss: 1.4981 - msle: 0.1715 - val_loss: 1.4712 - val_msle: 0.1460\n",
      "Epoch 190/300\n",
      "187/187 [==============================] - 5s 27ms/step - loss: 1.4813 - msle: 0.1566 - val_loss: 1.4664 - val_msle: 0.1431\n",
      "Epoch 191/300\n",
      "187/187 [==============================] - 5s 28ms/step - loss: 1.4788 - msle: 0.1560 - val_loss: 1.4807 - val_msle: 0.1593\n",
      "Epoch 192/300\n",
      "187/187 [==============================] - 5s 28ms/step - loss: 1.4659 - msle: 0.1449 - val_loss: 1.4588 - val_msle: 0.1392\n",
      "Epoch 193/300\n",
      "187/187 [==============================] - 5s 28ms/step - loss: 1.4800 - msle: 0.1609 - val_loss: 1.4649 - val_msle: 0.1472\n",
      "Epoch 194/300\n",
      "187/187 [==============================] - 5s 28ms/step - loss: 1.4896 - msle: 0.1723 - val_loss: 1.5809 - val_msle: 0.2651\n",
      "Epoch 195/300\n",
      "187/187 [==============================] - 5s 27ms/step - loss: 1.4726 - msle: 0.1573 - val_loss: 1.5062 - val_msle: 0.1922\n",
      "Epoch 196/300\n",
      "187/187 [==============================] - 5s 28ms/step - loss: 1.4621 - msle: 0.1486 - val_loss: 1.4427 - val_msle: 0.1307\n",
      "Epoch 197/300\n",
      "187/187 [==============================] - 5s 27ms/step - loss: 1.4642 - msle: 0.1527 - val_loss: 1.4716 - val_msle: 0.1615\n",
      "Epoch 198/300\n",
      "187/187 [==============================] - 5s 28ms/step - loss: 1.4377 - msle: 0.1281 - val_loss: 1.5143 - val_msle: 0.2061\n",
      "Epoch 199/300\n",
      "187/187 [==============================] - 5s 28ms/step - loss: 1.4644 - msle: 0.1566 - val_loss: 1.4902 - val_msle: 0.1838\n",
      "Epoch 200/300\n",
      "187/187 [==============================] - 5s 27ms/step - loss: 1.4722 - msle: 0.1663 - val_loss: 1.4156 - val_msle: 0.1111\n",
      "Epoch 201/300\n",
      "187/187 [==============================] - 5s 27ms/step - loss: 1.4481 - msle: 0.1441 - val_loss: 1.4202 - val_msle: 0.1176\n",
      "Epoch 202/300\n",
      "187/187 [==============================] - 5s 28ms/step - loss: 1.4757 - msle: 0.1735 - val_loss: 1.4067 - val_msle: 0.1060\n",
      "Epoch 203/300\n",
      "187/187 [==============================] - 5s 27ms/step - loss: 1.4124 - msle: 0.1121 - val_loss: 1.4444 - val_msle: 0.1456\n",
      "Epoch 204/300\n",
      "187/187 [==============================] - 5s 27ms/step - loss: 1.4371 - msle: 0.1388 - val_loss: 1.4129 - val_msle: 0.1159\n",
      "Epoch 205/300\n",
      "187/187 [==============================] - 5s 27ms/step - loss: 1.4327 - msle: 0.1362 - val_loss: 1.4358 - val_msle: 0.1407\n",
      "Epoch 206/300\n",
      "187/187 [==============================] - 5s 27ms/step - loss: 1.4240 - msle: 0.1294 - val_loss: 1.5074 - val_msle: 0.2142\n",
      "Epoch 207/300\n",
      "187/187 [==============================] - 5s 27ms/step - loss: 1.4400 - msle: 0.1472 - val_loss: 1.4614 - val_msle: 0.1701\n",
      "Epoch 208/300\n",
      "187/187 [==============================] - 5s 27ms/step - loss: 1.4048 - msle: 0.1140 - val_loss: 1.4078 - val_msle: 0.1184\n",
      "Epoch 209/300\n",
      "187/187 [==============================] - 5s 27ms/step - loss: 1.4345 - msle: 0.1456 - val_loss: 1.6590 - val_msle: 0.3714\n",
      "Epoch 210/300\n",
      "187/187 [==============================] - 5s 27ms/step - loss: 1.4139 - msle: 0.1269 - val_loss: 1.3786 - val_msle: 0.0929\n",
      "Epoch 211/300\n",
      "187/187 [==============================] - 5s 27ms/step - loss: 1.4085 - msle: 0.1233 - val_loss: 1.3763 - val_msle: 0.0926\n",
      "Epoch 212/300\n",
      "187/187 [==============================] - 5s 27ms/step - loss: 1.4006 - msle: 0.1173 - val_loss: 1.3700 - val_msle: 0.0881\n",
      "Epoch 213/300\n",
      "187/187 [==============================] - 5s 27ms/step - loss: 1.3993 - msle: 0.1178 - val_loss: 1.3884 - val_msle: 0.1083\n",
      "Epoch 214/300\n",
      "187/187 [==============================] - 5s 27ms/step - loss: 1.4210 - msle: 0.1414 - val_loss: 1.3666 - val_msle: 0.0884\n",
      "Epoch 215/300\n",
      "187/187 [==============================] - 5s 27ms/step - loss: 1.3833 - msle: 0.1056 - val_loss: 1.3897 - val_msle: 0.1134\n",
      "Epoch 216/300\n",
      "187/187 [==============================] - 5s 28ms/step - loss: 1.3764 - msle: 0.1005 - val_loss: 1.3695 - val_msle: 0.0951\n",
      "Epoch 217/300\n",
      "187/187 [==============================] - 5s 28ms/step - loss: 1.3731 - msle: 0.0991 - val_loss: 1.3625 - val_msle: 0.0899\n",
      "Epoch 218/300\n",
      "187/187 [==============================] - 5s 27ms/step - loss: 1.4069 - msle: 0.1348 - val_loss: 1.4088 - val_msle: 0.1381\n",
      "Epoch 219/300\n",
      "187/187 [==============================] - 5s 28ms/step - loss: 1.4108 - msle: 0.1405 - val_loss: 1.3497 - val_msle: 0.0809\n",
      "Epoch 220/300\n",
      "187/187 [==============================] - 5s 28ms/step - loss: 1.3759 - msle: 0.1076 - val_loss: 1.3635 - val_msle: 0.0966\n",
      "Epoch 221/300\n",
      "187/187 [==============================] - 5s 28ms/step - loss: 1.3788 - msle: 0.1123 - val_loss: 1.3821 - val_msle: 0.1170\n",
      "Epoch 222/300\n",
      "187/187 [==============================] - 5s 28ms/step - loss: 1.3673 - msle: 0.1027 - val_loss: 1.3655 - val_msle: 0.1023\n",
      "Epoch 223/300\n",
      "187/187 [==============================] - 5s 27ms/step - loss: 1.3662 - msle: 0.1034 - val_loss: 1.3385 - val_msle: 0.0772\n",
      "Epoch 224/300\n",
      "187/187 [==============================] - 5s 27ms/step - loss: 1.3844 - msle: 0.1236 - val_loss: 1.3383 - val_msle: 0.0789\n",
      "Epoch 225/300\n",
      "187/187 [==============================] - 5s 27ms/step - loss: 1.3661 - msle: 0.1072 - val_loss: 1.3294 - val_msle: 0.0718\n",
      "Epoch 226/300\n",
      "187/187 [==============================] - 5s 27ms/step - loss: 1.3600 - msle: 0.1028 - val_loss: 1.3520 - val_msle: 0.0964\n",
      "Epoch 227/300\n",
      "187/187 [==============================] - 5s 27ms/step - loss: 1.3607 - msle: 0.1055 - val_loss: 1.3260 - val_msle: 0.0721\n",
      "Epoch 228/300\n",
      "187/187 [==============================] - 5s 27ms/step - loss: 1.3521 - msle: 0.0987 - val_loss: 1.4193 - val_msle: 0.1673\n",
      "Epoch 229/300\n",
      "187/187 [==============================] - 5s 27ms/step - loss: 1.3644 - msle: 0.1129 - val_loss: 1.4259 - val_msle: 0.1758\n",
      "Epoch 230/300\n",
      "187/187 [==============================] - 5s 28ms/step - loss: 1.3365 - msle: 0.0869 - val_loss: 1.3216 - val_msle: 0.0734\n",
      "Epoch 231/300\n",
      "187/187 [==============================] - 5s 27ms/step - loss: 1.3548 - msle: 0.1070 - val_loss: 1.3156 - val_msle: 0.0692\n",
      "Epoch 232/300\n",
      "187/187 [==============================] - 5s 27ms/step - loss: 1.3518 - msle: 0.1059 - val_loss: 1.3349 - val_msle: 0.0904\n",
      "Epoch 233/300\n",
      "187/187 [==============================] - 5s 27ms/step - loss: 1.3407 - msle: 0.0966 - val_loss: 1.3679 - val_msle: 0.1252\n",
      "Epoch 234/300\n",
      "187/187 [==============================] - 5s 26ms/step - loss: 1.3525 - msle: 0.1104 - val_loss: 1.3227 - val_msle: 0.0820\n",
      "Epoch 235/300\n",
      "187/187 [==============================] - 5s 26ms/step - loss: 1.3411 - msle: 0.1008 - val_loss: 1.8455 - val_msle: 0.6066\n",
      "Epoch 236/300\n",
      "187/187 [==============================] - 5s 26ms/step - loss: 1.3580 - msle: 0.1196 - val_loss: 1.3149 - val_msle: 0.0779\n",
      "Epoch 237/300\n",
      "187/187 [==============================] - 5s 27ms/step - loss: 1.3280 - msle: 0.0914 - val_loss: 1.4954 - val_msle: 0.2602\n",
      "Epoch 238/300\n"
     ]
    },
    {
     "name": "stdout",
     "output_type": "stream",
     "text": [
      "187/187 [==============================] - 5s 27ms/step - loss: 1.3330 - msle: 0.0982 - val_loss: 1.5207 - val_msle: 0.2873\n",
      "Epoch 239/300\n",
      "187/187 [==============================] - 5s 27ms/step - loss: 1.3374 - msle: 0.1045 - val_loss: 1.3026 - val_msle: 0.0711\n",
      "Epoch 240/300\n",
      "187/187 [==============================] - 5s 27ms/step - loss: 1.3365 - msle: 0.1055 - val_loss: 1.3091 - val_msle: 0.0794\n",
      "Epoch 241/300\n",
      "187/187 [==============================] - 5s 27ms/step - loss: 1.3258 - msle: 0.0967 - val_loss: 1.2883 - val_msle: 0.0605\n",
      "Epoch 242/300\n",
      "187/187 [==============================] - 5s 27ms/step - loss: 1.3466 - msle: 0.1192 - val_loss: 1.4421 - val_msle: 0.2162\n",
      "Epoch 243/300\n",
      "187/187 [==============================] - 5s 27ms/step - loss: 1.3358 - msle: 0.1103 - val_loss: 1.5204 - val_msle: 0.2963\n",
      "Epoch 244/300\n",
      "187/187 [==============================] - 5s 27ms/step - loss: 1.3204 - msle: 0.0968 - val_loss: 1.3092 - val_msle: 0.0870\n",
      "Epoch 245/300\n",
      "187/187 [==============================] - 5s 27ms/step - loss: 1.3258 - msle: 0.1041 - val_loss: 1.3488 - val_msle: 0.1284\n",
      "Epoch 246/300\n",
      "187/187 [==============================] - 5s 27ms/step - loss: 1.3382 - msle: 0.1183 - val_loss: 1.2799 - val_msle: 0.0613\n",
      "Epoch 247/300\n",
      "187/187 [==============================] - 5s 27ms/step - loss: 1.2972 - msle: 0.0791 - val_loss: 1.3224 - val_msle: 0.1057\n",
      "Epoch 248/300\n",
      "187/187 [==============================] - 5s 27ms/step - loss: 1.3164 - msle: 0.1001 - val_loss: 1.2771 - val_msle: 0.0622\n",
      "Epoch 249/300\n",
      "187/187 [==============================] - 5s 27ms/step - loss: 1.3231 - msle: 0.1087 - val_loss: 1.3070 - val_msle: 0.0939\n",
      "Epoch 250/300\n",
      "187/187 [==============================] - 5s 27ms/step - loss: 1.3046 - msle: 0.0920 - val_loss: 1.3393 - val_msle: 0.1281\n",
      "Epoch 251/300\n",
      "187/187 [==============================] - 5s 27ms/step - loss: 1.3140 - msle: 0.1032 - val_loss: 1.2681 - val_msle: 0.0587\n",
      "Epoch 252/300\n",
      "187/187 [==============================] - 5s 27ms/step - loss: 1.2924 - msle: 0.0835 - val_loss: 1.2624 - val_msle: 0.0548\n",
      "Epoch 253/300\n",
      "187/187 [==============================] - 5s 27ms/step - loss: 1.2772 - msle: 0.0701 - val_loss: 1.2816 - val_msle: 0.0758\n",
      "Epoch 254/300\n",
      "187/187 [==============================] - 5s 27ms/step - loss: 1.2926 - msle: 0.0873 - val_loss: 1.3891 - val_msle: 0.1851\n",
      "Epoch 255/300\n",
      "187/187 [==============================] - 5s 27ms/step - loss: 1.3198 - msle: 0.1164 - val_loss: 1.2558 - val_msle: 0.0537\n",
      "Epoch 256/300\n",
      "187/187 [==============================] - 5s 27ms/step - loss: 1.3183 - msle: 0.1167 - val_loss: 1.2566 - val_msle: 0.0563\n",
      "Epoch 257/300\n",
      "187/187 [==============================] - 5s 27ms/step - loss: 1.2730 - msle: 0.0732 - val_loss: 1.2528 - val_msle: 0.0544\n",
      "Epoch 258/300\n",
      "187/187 [==============================] - 5s 27ms/step - loss: 1.2826 - msle: 0.0847 - val_loss: 1.2524 - val_msle: 0.0558\n",
      "Epoch 259/300\n",
      "187/187 [==============================] - 5s 27ms/step - loss: 1.2926 - msle: 0.0965 - val_loss: 1.3216 - val_msle: 0.1268\n",
      "Epoch 260/300\n",
      "187/187 [==============================] - 5s 27ms/step - loss: 1.2838 - msle: 0.0895 - val_loss: 1.3159 - val_msle: 0.1229\n",
      "Epoch 261/300\n",
      "187/187 [==============================] - 5s 27ms/step - loss: 1.2732 - msle: 0.0807 - val_loss: 1.2710 - val_msle: 0.0798\n",
      "Epoch 262/300\n",
      "187/187 [==============================] - 5s 27ms/step - loss: 1.2724 - msle: 0.0817 - val_loss: 1.2839 - val_msle: 0.0946\n",
      "Epoch 263/300\n",
      "187/187 [==============================] - 5s 27ms/step - loss: 1.2628 - msle: 0.0739 - val_loss: 1.2694 - val_msle: 0.0819\n",
      "Epoch 264/300\n",
      "187/187 [==============================] - 5s 27ms/step - loss: 1.2909 - msle: 0.1038 - val_loss: 1.2357 - val_msle: 0.0500\n",
      "Epoch 265/300\n",
      "187/187 [==============================] - 5s 27ms/step - loss: 1.2824 - msle: 0.0972 - val_loss: 1.2849 - val_msle: 0.1010\n",
      "Epoch 266/300\n",
      "187/187 [==============================] - 5s 27ms/step - loss: 1.2757 - msle: 0.0923 - val_loss: 1.2651 - val_msle: 0.0830\n",
      "Epoch 267/300\n",
      "187/187 [==============================] - 5s 27ms/step - loss: 1.2682 - msle: 0.0865 - val_loss: 1.3083 - val_msle: 0.1279\n",
      "Epoch 268/300\n",
      "187/187 [==============================] - 5s 27ms/step - loss: 1.2899 - msle: 0.1100 - val_loss: 1.3491 - val_msle: 0.1706\n",
      "Epoch 269/300\n",
      "187/187 [==============================] - 5s 27ms/step - loss: 1.2607 - msle: 0.0827 - val_loss: 1.6195 - val_msle: 0.4428\n",
      "Epoch 270/300\n",
      "187/187 [==============================] - 5s 28ms/step - loss: 1.2937 - msle: 0.1175 - val_loss: 1.2229 - val_msle: 0.0480\n",
      "Epoch 271/300\n",
      "187/187 [==============================] - 5s 28ms/step - loss: 1.2638 - msle: 0.0893 - val_loss: 1.2314 - val_msle: 0.0584\n",
      "Epoch 272/300\n",
      "187/187 [==============================] - 5s 28ms/step - loss: 1.2472 - msle: 0.0746 - val_loss: 1.2185 - val_msle: 0.0473\n",
      "Epoch 273/300\n",
      "187/187 [==============================] - 5s 28ms/step - loss: 1.2528 - msle: 0.0819 - val_loss: 1.2242 - val_msle: 0.0547\n",
      "Epoch 274/300\n",
      "187/187 [==============================] - 5s 27ms/step - loss: 1.2702 - msle: 0.1012 - val_loss: 1.2265 - val_msle: 0.0588\n",
      "Epoch 275/300\n",
      "187/187 [==============================] - 5s 27ms/step - loss: 1.2638 - msle: 0.0965 - val_loss: 1.4130 - val_msle: 0.2471\n",
      "Epoch 276/300\n",
      "187/187 [==============================] - 5s 27ms/step - loss: 1.2500 - msle: 0.0846 - val_loss: 1.2145 - val_msle: 0.0504\n",
      "Epoch 277/300\n",
      "187/187 [==============================] - 5s 27ms/step - loss: 1.2303 - msle: 0.0667 - val_loss: 1.2092 - val_msle: 0.0468\n",
      "Epoch 278/300\n",
      "187/187 [==============================] - 5s 27ms/step - loss: 1.2295 - msle: 0.0676 - val_loss: 1.2408 - val_msle: 0.0803\n",
      "Epoch 279/300\n",
      "187/187 [==============================] - 5s 27ms/step - loss: 1.2322 - msle: 0.0721 - val_loss: 1.2222 - val_msle: 0.0634\n",
      "Epoch 280/300\n",
      "187/187 [==============================] - 5s 27ms/step - loss: 1.2299 - msle: 0.0716 - val_loss: 1.3158 - val_msle: 0.1588\n",
      "Epoch 281/300\n",
      "187/187 [==============================] - 5s 27ms/step - loss: 1.3191 - msle: 0.1625 - val_loss: 1.2259 - val_msle: 0.0707\n",
      "Epoch 282/300\n",
      "187/187 [==============================] - 5s 27ms/step - loss: 1.2295 - msle: 0.0747 - val_loss: 1.1986 - val_msle: 0.0452\n",
      "Epoch 283/300\n",
      "187/187 [==============================] - 5s 27ms/step - loss: 1.2197 - msle: 0.0667 - val_loss: 1.2016 - val_msle: 0.0499\n",
      "Epoch 284/300\n",
      "187/187 [==============================] - 5s 27ms/step - loss: 1.2113 - msle: 0.0601 - val_loss: 1.1941 - val_msle: 0.0442\n",
      "Epoch 285/300\n",
      "187/187 [==============================] - 5s 27ms/step - loss: 1.2145 - msle: 0.0651 - val_loss: 1.2367 - val_msle: 0.0885\n",
      "Epoch 286/300\n",
      "187/187 [==============================] - 5s 27ms/step - loss: 1.2407 - msle: 0.0930 - val_loss: 1.1899 - val_msle: 0.0435\n",
      "Epoch 287/300\n",
      "187/187 [==============================] - 5s 27ms/step - loss: 1.2308 - msle: 0.0848 - val_loss: 1.1895 - val_msle: 0.0449\n",
      "Epoch 288/300\n",
      "187/187 [==============================] - 5s 27ms/step - loss: 1.2107 - msle: 0.0666 - val_loss: 1.1975 - val_msle: 0.0547\n",
      "Epoch 289/300\n",
      "187/187 [==============================] - 5s 27ms/step - loss: 1.2149 - msle: 0.0725 - val_loss: 1.2556 - val_msle: 0.1146\n",
      "Epoch 290/300\n",
      "187/187 [==============================] - 5s 27ms/step - loss: 1.2135 - msle: 0.0730 - val_loss: 1.1844 - val_msle: 0.0451\n",
      "Epoch 291/300\n",
      "187/187 [==============================] - 5s 27ms/step - loss: 1.2166 - msle: 0.0778 - val_loss: 1.1831 - val_msle: 0.0456\n",
      "Epoch 292/300\n",
      "187/187 [==============================] - 5s 27ms/step - loss: 1.2001 - msle: 0.0630 - val_loss: 1.1928 - val_msle: 0.0570\n",
      "Epoch 293/300\n",
      "187/187 [==============================] - 5s 27ms/step - loss: 1.2130 - msle: 0.0777 - val_loss: 1.1822 - val_msle: 0.0482\n",
      "Epoch 294/300\n",
      "187/187 [==============================] - 5s 27ms/step - loss: 1.2094 - msle: 0.0758 - val_loss: 1.2352 - val_msle: 0.1029\n",
      "Epoch 295/300\n",
      "187/187 [==============================] - 5s 27ms/step - loss: 1.2000 - msle: 0.0682 - val_loss: 1.1712 - val_msle: 0.0407\n",
      "Epoch 296/300\n",
      "187/187 [==============================] - 5s 27ms/step - loss: 1.1942 - msle: 0.0641 - val_loss: 1.1747 - val_msle: 0.0459\n",
      "Epoch 297/300\n"
     ]
    },
    {
     "name": "stdout",
     "output_type": "stream",
     "text": [
      "187/187 [==============================] - 5s 27ms/step - loss: 1.1837 - msle: 0.0554 - val_loss: 1.1899 - val_msle: 0.0628\n",
      "Epoch 298/300\n",
      "187/187 [==============================] - 5s 27ms/step - loss: 1.2105 - msle: 0.0839 - val_loss: 1.1693 - val_msle: 0.0440\n",
      "Epoch 299/300\n",
      "187/187 [==============================] - 5s 27ms/step - loss: 1.1950 - msle: 0.0701 - val_loss: 1.2132 - val_msle: 0.0897\n",
      "Epoch 300/300\n",
      "187/187 [==============================] - 5s 27ms/step - loss: 1.2126 - msle: 0.0895 - val_loss: 1.2295 - val_msle: 0.1077\n"
     ]
    }
   ],
   "source": [
    "##DO ALL YOUR TRAINING USING MODEL_1###\n",
    "start_time = time.time()\n",
    "history_1 = model_1.fit(\n",
    "    X_train,\n",
    "    y_train,\n",
    "    epochs=300,\n",
    "    batch_size=50,\n",
    "    validation_split=0.3,\n",
    "    callbacks=[lr_callback],\n",
    ")\n",
    "end_time = time.time()\n",
    "training_time = end_time - start_time"
   ]
  },
  {
   "cell_type": "code",
   "execution_count": 10,
   "id": "89b48b17",
   "metadata": {},
   "outputs": [
    {
     "ename": "NameError",
     "evalue": "name 'model_1' is not defined",
     "output_type": "error",
     "traceback": [
      "\u001b[0;31m---------------------------------------------------------------------------\u001b[0m",
      "\u001b[0;31mNameError\u001b[0m                                 Traceback (most recent call last)",
      "Cell \u001b[0;32mIn[10], line 2\u001b[0m\n\u001b[1;32m      1\u001b[0m \u001b[38;5;66;03m# Save Model\u001b[39;00m\n\u001b[0;32m----> 2\u001b[0m model_1\u001b[38;5;241m.\u001b[39msave(\u001b[38;5;124m\"\u001b[39m\u001b[38;5;124mMyNN.h5\u001b[39m\u001b[38;5;124m\"\u001b[39m)\n",
      "\u001b[0;31mNameError\u001b[0m: name 'model_1' is not defined"
     ]
    }
   ],
   "source": [
    "# Save Model\n",
    "model_1.save(\"MyNN.h5\")"
   ]
  },
  {
   "cell_type": "code",
   "execution_count": 11,
   "id": "f48e0b6a",
   "metadata": {},
   "outputs": [
    {
     "ename": "NameError",
     "evalue": "name 'model_1' is not defined",
     "output_type": "error",
     "traceback": [
      "\u001b[0;31m---------------------------------------------------------------------------\u001b[0m",
      "\u001b[0;31mNameError\u001b[0m                                 Traceback (most recent call last)",
      "Cell \u001b[0;32mIn[11], line 1\u001b[0m\n\u001b[0;32m----> 1\u001b[0m y_pred \u001b[38;5;241m=\u001b[39m model_1\u001b[38;5;241m.\u001b[39mpredict(X_test)\n\u001b[1;32m      2\u001b[0m \u001b[38;5;28mprint\u001b[39m(y_pred)\n\u001b[1;32m      3\u001b[0m \u001b[38;5;28mprint\u001b[39m(\u001b[38;5;124m\"\u001b[39m\u001b[38;5;124m \u001b[39m\u001b[38;5;124m\"\u001b[39m)\n",
      "\u001b[0;31mNameError\u001b[0m: name 'model_1' is not defined"
     ]
    }
   ],
   "source": [
    "y_pred = model_1.predict(X_test)\n",
    "print(y_pred)\n",
    "print(\" \")\n",
    "print(y_test)\n",
    "\n",
    "hist_df = pd.DataFrame(history_1.history)\n",
    "\n",
    "output_csv_file = \"MyFile.csv\"\n",
    "\n",
    "with open(output_csv_file, mode=\"w\") as f:\n",
    "    hist_df.to_csv(f, index=False)\n",
    "    f.write(\"\\n\")"
   ]
  },
  {
   "cell_type": "code",
   "execution_count": 12,
   "id": "b6389722",
   "metadata": {},
   "outputs": [
    {
     "ename": "NameError",
     "evalue": "name 'initial_weights' is not defined",
     "output_type": "error",
     "traceback": [
      "\u001b[0;31m---------------------------------------------------------------------------\u001b[0m",
      "\u001b[0;31mNameError\u001b[0m                                 Traceback (most recent call last)",
      "Cell \u001b[0;32mIn[12], line 1\u001b[0m\n\u001b[0;32m----> 1\u001b[0m \u001b[38;5;28mprint\u001b[39m(initial_weights)\n",
      "\u001b[0;31mNameError\u001b[0m: name 'initial_weights' is not defined"
     ]
    }
   ],
   "source": [
    "print(initial_weights)"
   ]
  },
  {
   "cell_type": "code",
   "execution_count": null,
   "id": "4b02f8f4",
   "metadata": {},
   "outputs": [],
   "source": []
  },
  {
   "cell_type": "code",
   "execution_count": null,
   "id": "2605618f",
   "metadata": {},
   "outputs": [],
   "source": []
  },
  {
   "cell_type": "code",
   "execution_count": null,
   "id": "f7630dce",
   "metadata": {},
   "outputs": [],
   "source": []
  },
  {
   "cell_type": "code",
   "execution_count": null,
   "id": "b0ba1430",
   "metadata": {},
   "outputs": [],
   "source": []
  }
 ],
 "metadata": {
  "kernelspec": {
   "display_name": "Python 3 (ipykernel)",
   "language": "python",
   "name": "python3"
  },
  "language_info": {
   "codemirror_mode": {
    "name": "ipython",
    "version": 3
   },
   "file_extension": ".py",
   "mimetype": "text/x-python",
   "name": "python",
   "nbconvert_exporter": "python",
   "pygments_lexer": "ipython3",
   "version": "3.11.5"
  }
 },
 "nbformat": 4,
 "nbformat_minor": 5
}
